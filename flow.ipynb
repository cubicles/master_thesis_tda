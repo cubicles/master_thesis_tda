{
 "cells": [
  {
   "cell_type": "code",
   "execution_count": 1,
   "id": "345c5939-d44e-4d13-988e-f0347d466b44",
   "metadata": {},
   "outputs": [],
   "source": [
    "# flow.ipynb\n",
    "\n",
    "# To use persistence diagrams on time series data, you need to follow these\n",
    "# steps:\n",
    "\n",
    "# 1. Convert the time series data into a point cloud in a higher-dimensional\n",
    "# space. One common method to achieve this is using the sliding window\n",
    "# (also called time-delay embedding) technique. This method creates a new\n",
    "# point for every window of consecutive data points in the time series.\n",
    "# The dimensionality of the point cloud will be equal to the window size.\n",
    "\n",
    "# 2. Compute the persistent homology of the point cloud. This involves\n",
    "# constructing a filtration (a nested sequence of simplicial complexes) on the\n",
    "# point cloud and tracking the birth and death of topological features\n",
    "# (connected components, loops, etc.) as the filtration progresses.\n",
    "\n",
    "# 3. Construct the persistence diagram using the results of persistent\n",
    "# homology. In a persistence diagram, each point (x, y) represents a\n",
    "# topological feature that is born at scale x and dies at scale y. The\n",
    "# persistence of the feature is given by y - x."
   ]
  },
  {
   "cell_type": "code",
   "execution_count": 2,
   "id": "2cc1b0c6-8647-4057-88f2-6c1e0d38b985",
   "metadata": {},
   "outputs": [],
   "source": [
    "# imports\n",
    "import numpy as np\n",
    "import pandas as pd\n",
    "import gudhi as gd\n",
    "import matplotlib.pyplot as plt"
   ]
  },
  {
   "cell_type": "code",
   "execution_count": 3,
   "id": "888f2b9c-3d98-4218-aaa7-48edd8b86858",
   "metadata": {},
   "outputs": [],
   "source": [
    "# utility\n",
    "def read_excel_fx(PATH: str) -> pd.DataFrame:\n",
    "    ''' read_excel_fx:\n",
    "        - Read time series data from latam countries\n",
    "    '''\n",
    "    df_headers = ['dt', 'PER', 'COL', 'CHI', 'MEX', 'BRA']\n",
    "    df = pd.read_excel(PATH, skiprows=5)\n",
    "    df.columns = df_headers\n",
    "    return df\n",
    "\n",
    "def preprocessing():\n",
    "    ''' preprocessing:\n",
    "        - data acquisition (time series)\n",
    "        - cleaning and normalization (TODO)\n",
    "        - log useful metrics (TODO)\n",
    "    '''\n",
    "    fx_data = read_excel_fx('data/fx_latam.xlsx')\n",
    "    fx_data = fx_data[['dt', 'PER']]\n",
    "    return fx_data\n",
    "\n",
    "def df_to_series(col: str, df: pd.DataFrame):\n",
    "    ''' df_to_series:\n",
    "        - Convert dataframe with column 'col' to numpy t.series\n",
    "    '''\n",
    "    time_series = df[col].to_numpy()\n",
    "    return time_series"
   ]
  },
  {
   "cell_type": "code",
   "execution_count": 8,
   "id": "eebeb9d7-0d75-419b-ab5e-b6cd0b5a0619",
   "metadata": {},
   "outputs": [],
   "source": [
    "# main\n",
    "df = preprocessing()\n",
    "df = df[df['dt'] >= '2020-01-01'] # 2020 en adelante\n",
    "time_series = df_to_series('PER', df)\n",
    "#time_series"
   ]
  },
  {
   "cell_type": "code",
   "execution_count": 10,
   "id": "e8cef713-be29-40e2-8edb-32647e33713e",
   "metadata": {},
   "outputs": [],
   "source": [
    "# Convert the time series to a point cloud using the sliding window method\n",
    "window_size = 5\n",
    "point_cloud = [time_series[i:i + window_size] for i in range(len(time_series) - window_size)]"
   ]
  },
  {
   "cell_type": "code",
   "execution_count": 11,
   "id": "7d84c0f1-84a2-4062-8b0a-35d4ed050910",
   "metadata": {},
   "outputs": [],
   "source": [
    "# Compute the persistent homology using the Rips complex\n",
    "rips_complex = gd.RipsComplex(points=point_cloud)"
   ]
  },
  {
   "cell_type": "code",
   "execution_count": 13,
   "id": "cb3b7570-1cde-4a45-bdf0-bae9ba999f60",
   "metadata": {},
   "outputs": [],
   "source": [
    "# Create simplex tree\n",
    "simplex_tree = rips_complex.create_simplex_tree(max_dimension=2)"
   ]
  },
  {
   "cell_type": "code",
   "execution_count": 14,
   "id": "98774abf-c86e-4f01-a45f-8c9cdabeec11",
   "metadata": {},
   "outputs": [],
   "source": [
    "# Create persistence\n",
    "persistence = simplex_tree.persistence()"
   ]
  },
  {
   "cell_type": "code",
   "execution_count": 15,
   "id": "584dd387-b9b7-45fa-84b1-0fd2d9f759e4",
   "metadata": {},
   "outputs": [
    {
     "data": {
      "text/plain": [
       "<AxesSubplot:title={'center':'Persistence barcode'}>"
      ]
     },
     "execution_count": 15,
     "metadata": {},
     "output_type": "execute_result"
    },
    {
     "data": {
      "image/png": "[encoded data removed]",
      "text/plain": [
       "<Figure size 432x288 with 1 Axes>"
      ]
     },
     "metadata": {
      "needs_background": "light"
     },
     "output_type": "display_data"
    }
   ],
   "source": [
    "# Persistence barcode\n",
    "gd.plot_persistence_barcode(persistence=persistence)"
   ]
  },
  {
   "cell_type": "code",
   "execution_count": 16,
   "id": "988d5628-33bf-41e1-af48-fdb6ec55776c",
   "metadata": {},
   "outputs": [
    {
     "data": {
      "text/plain": [
       "<AxesSubplot:title={'center':'Persistence diagram'}, xlabel='Birth', ylabel='Death'>"
      ]
     },
     "execution_count": 16,
     "metadata": {},
     "output_type": "execute_result"
    },
    {
     "data": {
      "image/png": "[encoded data removed]",
      "text/plain": [
       "<Figure size 432x288 with 1 Axes>"
      ]
     },
     "metadata": {
      "needs_background": "light"
     },
     "output_type": "display_data"
    }
   ],
   "source": [
    "# Persistence diagram\n",
    "gd.plot_persistence_diagram(persistence=persistence)"
   ]
  },
  {
   "cell_type": "code",
   "execution_count": null,
   "id": "f3d13e75-bbe1-442e-b2eb-f7791ecfdcb8",
   "metadata": {},
   "outputs": [],
   "source": []
  }
 ],
 "metadata": {
  "kernelspec": {
   "display_name": "Python 3 (ipykernel)",
   "language": "python",
   "name": "python3"
  },
  "language_info": {
   "codemirror_mode": {
    "name": "ipython",
    "version": 3
   },
   "file_extension": ".py",
   "mimetype": "text/x-python",
   "name": "python",
   "nbconvert_exporter": "python",
   "pygments_lexer": "ipython3",
   "version": "3.9.6"
  }
 },
 "nbformat": 4,
 "nbformat_minor": 5
}
